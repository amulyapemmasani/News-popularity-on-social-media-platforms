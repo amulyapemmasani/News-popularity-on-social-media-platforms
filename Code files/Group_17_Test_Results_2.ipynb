{
 "cells": [
  {
   "cell_type": "code",
   "execution_count": 1,
   "metadata": {},
   "outputs": [],
   "source": [
    "from sklearn.model_selection import train_test_split\n",
    "import pandas as pd\n",
    "import numpy as np\n",
    "from sklearn.metrics import mean_squared_error\n",
    "from sklearn.metrics import r2_score"
   ]
  },
  {
   "cell_type": "code",
   "execution_count": 2,
   "metadata": {},
   "outputs": [],
   "source": [
    "import pickle\n",
    "#Load the trained Best Gradient Boost Regressor model\n",
    "gb= pickle.load(open('gradient_model.sav', 'rb'))\n",
    "\n",
    "#Load the trained Best KNN model\n",
    "knn= pickle.load(open('knn_model.sav', 'rb'))\n",
    "\n",
    "#Load the trained Best Random Forest Regressor model\n",
    "rf= pickle.load(open('randomforest_model.sav', 'rb'))\n",
    "\n",
    "#Load the trained Best SVM model\n",
    "svm=pickle.load(open('svm_model.sav', 'rb'))\n",
    "\n",
    "#Load the trained Best Linear Regression model\n",
    "lr=pickle.load(open('linear_model.sav', 'rb'))\n",
    "\n",
    "data=pd.read_csv(\"Final.csv\")\n",
    "\n",
    "columns = [x for x in data.columns if x not in ['Facebook_scaled','LinkedIn_scaled','GooglePlus_scaled']]\n",
    "x = data[columns]\n",
    "y = data[['Facebook_scaled']]\n",
    "\n",
    "#Extracts test set from the dataset\n",
    "# keeping the random_state value same makes the function to split same rows into training and testing every time\n",
    "x_train, x_test, y_train, y_test = train_test_split(x, y, test_size = 0.3, random_state=30)"
   ]
  },
  {
   "cell_type": "code",
   "execution_count": 3,
   "metadata": {},
   "outputs": [],
   "source": [
    "#Load dataset from variable selection using LASSO\n",
    "x1 = pd.read_csv(\"variable_selection.csv\")\n",
    "y1 = pd.read_csv(\"variable_labels.csv\")\n",
    "#Extract test set\n",
    "# keeping the random_state value same makes the function to split same rows into training and testing every time\n",
    "x_train1, x_test1, y_train1, y_test1 = train_test_split(x1, y1, test_size = 0.3, random_state=30)\n",
    "\n",
    "#Load dataset from variable selection using BI-Directional elimination\n",
    "x2 = pd.read_csv(\"bi_variable_selection.csv\")\n",
    "y2 = pd.read_csv(\"bi_variable_labels.csv\")\n",
    "#Extract test set\n",
    "# keeping the random_state value same makes the function to split same rows into training and testing every time\n",
    "x_train2, x_test2, y_train2, y_test2 = train_test_split(x2, y2, test_size = 0.3, random_state=30)"
   ]
  },
  {
   "cell_type": "code",
   "execution_count": 7,
   "metadata": {},
   "outputs": [],
   "source": [
    "from tensorflow import keras\n",
    "#Loads trained Artificial Neural Network Model trained on LASSO variable selection\n",
    "model_variable = keras.models.load_model('DL_variable_model/DL_variable_model/')\n",
    "\n",
    "#Loads trained Artificial Neural Network Model trained on Bi-directional variable selection\n",
    "model_variable2 = keras.models.load_model('DL_bi_variable_model/DL_bi_variable_model')"
   ]
  },
  {
   "cell_type": "code",
   "execution_count": 8,
   "metadata": {},
   "outputs": [
    {
     "name": "stdout",
     "output_type": "stream",
     "text": [
      "+--------------------------------+-----------+----------+------------+---------------------+\n",
      "| Model                          |       MSE |     RMSE |   R2_Score |   Adjusted_R2_score |\n",
      "+================================+===========+==========+============+=====================+\n",
      "| SVM                            | 0.118923  | 0.344853 |   0.871885 |            0.866715 |\n",
      "+--------------------------------+-----------+----------+------------+---------------------+\n",
      "| Gradient Boost                 | 0.0958367 | 0.309575 |   0.896756 |            0.89259  |\n",
      "+--------------------------------+-----------+----------+------------+---------------------+\n",
      "| KNN                            | 0.0865688 | 0.294226 |   0.90674  |            0.902977 |\n",
      "+--------------------------------+-----------+----------+------------+---------------------+\n",
      "| Random Forest                  | 0.0705562 | 0.265624 |   0.923991 |            0.920923 |\n",
      "+--------------------------------+-----------+----------+------------+---------------------+\n",
      "| Linear Regression              | 0.602376  | 0.776129 |   0.351067 |            0.324878 |\n",
      "+--------------------------------+-----------+----------+------------+---------------------+\n",
      "| ANN 1st Variable Selection     | 0.0813967 | 0.285301 |   0.912312 |            0.912269 |\n",
      "+--------------------------------+-----------+----------+------------+---------------------+\n",
      "| ANN BI directional Elimination | 0.082033  | 0.286414 |   0.911627 |            0.911586 |\n",
      "+--------------------------------+-----------+----------+------------+---------------------+\n"
     ]
    }
   ],
   "source": [
    "#Function to calculate and return evaluation metrics on different models\n",
    "def metrics(name,x_train,y_test,pred):\n",
    "    k=len(list(x_train.columns))\n",
    "    n = len(pred)\n",
    "    MSE=mean_squared_error(y_test,pred)\n",
    "    RMSE=np.sqrt(mean_squared_error(y_test,pred))\n",
    "    R2_Score=r2_score(y_test,pred)\n",
    "    Adjusted_R2_score=1 - ((1-r2_score(y_test,pred))*(n-1)/(n-k-1))\n",
    "    return [name,MSE,RMSE,R2_Score,Adjusted_R2_score]\n",
    "#Creates comparison of different models and their metrics on test data\n",
    "from tabulate import tabulate\n",
    "head = [\"Model\", \"MSE\",\"RMSE\",\"R2_Score\",\"Adjusted_R2_score\"]\n",
    "mydata=[]\n",
    "mydata.append(metrics(\"SVM\",x_train,y_test,svm.predict(x_test)))\n",
    "mydata.append(metrics(\"Gradient Boost\",x_train,y_test,gb.predict(x_test)))\n",
    "mydata.append(metrics(\"KNN\",x_train,y_test,knn.predict(x_test)))\n",
    "mydata.append(metrics(\"Random Forest\",x_train,y_test,rf.predict(x_test)))\n",
    "mydata.append(metrics(\"Linear Regression\",x_train,y_test,lr.predict(x_test)))\n",
    "mydata.append(metrics(\"ANN 1st Variable Selection\",x_train1,y_test1,model_variable.predict(x_test1)))\n",
    "mydata.append(metrics(\"ANN BI directional Elimination\",x_train2,y_test2,model_variable2.predict(x_test2)))\n",
    "print(tabulate(mydata, headers=head, tablefmt=\"grid\"))"
   ]
  },
  {
   "cell_type": "code",
   "execution_count": null,
   "metadata": {},
   "outputs": [],
   "source": []
  }
 ],
 "metadata": {
  "kernelspec": {
   "display_name": "Python 3 (ipykernel)",
   "language": "python",
   "name": "python3"
  },
  "language_info": {
   "codemirror_mode": {
    "name": "ipython",
    "version": 3
   },
   "file_extension": ".py",
   "mimetype": "text/x-python",
   "name": "python",
   "nbconvert_exporter": "python",
   "pygments_lexer": "ipython3",
   "version": "3.9.12"
  },
  "vscode": {
   "interpreter": {
    "hash": "33bdbe38f05906664ce37e1bfad729095acf9d140669353919cc55cda7a7bbb8"
   }
  }
 },
 "nbformat": 4,
 "nbformat_minor": 2
}
