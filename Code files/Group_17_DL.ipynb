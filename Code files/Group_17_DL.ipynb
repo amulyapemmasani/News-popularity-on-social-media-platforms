{
  "cells": [
    {
      "cell_type": "code",
      "execution_count": 2,
      "metadata": {
        "id": "F8G5wokf5TJy"
      },
      "outputs": [],
      "source": [
        "from sklearn.model_selection import train_test_split\n",
        "import pandas as pd\n",
        "import numpy as np\n",
        "from sklearn.metrics import mean_squared_error\n",
        "from sklearn.metrics import r2_score\n",
        "from tensorflow.keras.layers import Input,Dense,Dropout\n",
        "from tensorflow.keras.models import Model\n",
        "import pickle"
      ]
    },
    {
      "cell_type": "code",
      "execution_count": 3,
      "metadata": {
        "id": "UAy9Vg1M56-d"
      },
      "outputs": [],
      "source": [
        "#Load the processed dataset\n",
        "data=pd.read_csv(\"Final.csv\")"
      ]
    },
    {
      "cell_type": "code",
      "execution_count": 4,
      "metadata": {
        "id": "yfckrg6F58GN"
      },
      "outputs": [],
      "source": [
        "#Separates the independent variables and dependent variable into x and y\n",
        "columns = [x for x in data.columns if x not in ['Facebook_scaled','LinkedIn_scaled','GooglePlus_scaled']]\n",
        "x = data[columns]\n",
        "y = data[['Facebook_scaled']]\n",
        "\n",
        "#Splits the dataset into 70 percent training set and 30 percent testing set\n",
        "# keeping the random_state value same makes the function to split same rows into training and testing every time\n",
        "x_train, x_test, y_train, y_test = train_test_split(x, y, test_size = 0.3, random_state=30)"
      ]
    },
    {
      "cell_type": "code",
      "execution_count": 9,
      "metadata": {
        "id": "jeB6751s5r0E"
      },
      "outputs": [],
      "source": [
        "#creates 10layer Artificial neural network model\n",
        "inp= Input(shape=(1018, ))\n",
        "x = Dense(2048,activation='relu')(inp)\n",
        "x = Dense(1024,activation='relu')(x)\n",
        "x = Dropout(0.5)(x)\n",
        "x = Dense(512,activation='relu')(x)\n",
        "x = Dropout(0.5)(x)\n",
        "x = Dense(256,activation='relu')(x)\n",
        "x = Dense(64,activation='relu')(x)\n",
        "x = Dense(8,activation='relu')(x)\n",
        "out = Dense(1,activation='linear')(x)\n",
        "normal_model=Model(inputs=inp,outputs=out)\n",
        "normal_model.compile('adam','mean_squared_error')"
      ]
    },
    {
      "cell_type": "code",
      "execution_count": 10,
      "metadata": {
        "colab": {
          "base_uri": "https://localhost:8080/"
        },
        "id": "MVywJwOB51o9",
        "outputId": "4c0067fb-17db-446b-dc36-080d9dbffcc9"
      },
      "outputs": [
        {
          "name": "stdout",
          "output_type": "stream",
          "text": [
            "Epoch 1/50\n",
            "479/479 [==============================] - 3s 5ms/step - loss: 1.2361\n",
            "Epoch 2/50\n",
            "479/479 [==============================] - 2s 4ms/step - loss: 0.4826\n",
            "Epoch 3/50\n",
            "479/479 [==============================] - 2s 4ms/step - loss: 0.3476\n",
            "Epoch 4/50\n",
            "479/479 [==============================] - 2s 4ms/step - loss: 0.2609\n",
            "Epoch 5/50\n",
            "479/479 [==============================] - 2s 4ms/step - loss: 0.4985\n",
            "Epoch 6/50\n",
            "479/479 [==============================] - 2s 4ms/step - loss: 0.1817\n",
            "Epoch 7/50\n",
            "479/479 [==============================] - 2s 4ms/step - loss: 0.1404\n",
            "Epoch 8/50\n",
            "479/479 [==============================] - 2s 4ms/step - loss: 0.1253\n",
            "Epoch 9/50\n",
            "479/479 [==============================] - 2s 4ms/step - loss: 0.1939\n",
            "Epoch 10/50\n",
            "479/479 [==============================] - 2s 4ms/step - loss: 0.1203\n",
            "Epoch 11/50\n",
            "479/479 [==============================] - 2s 4ms/step - loss: 0.0994\n",
            "Epoch 12/50\n",
            "479/479 [==============================] - 2s 4ms/step - loss: 0.0808\n",
            "Epoch 13/50\n",
            "479/479 [==============================] - 2s 4ms/step - loss: 0.0866\n",
            "Epoch 14/50\n",
            "479/479 [==============================] - 2s 4ms/step - loss: 0.1241\n",
            "Epoch 15/50\n",
            "479/479 [==============================] - 2s 4ms/step - loss: 0.3975\n",
            "Epoch 16/50\n",
            "479/479 [==============================] - 2s 4ms/step - loss: 0.0997\n",
            "Epoch 17/50\n",
            "479/479 [==============================] - 2s 4ms/step - loss: 0.0735\n",
            "Epoch 18/50\n",
            "479/479 [==============================] - 2s 4ms/step - loss: 0.0911\n",
            "Epoch 19/50\n",
            "479/479 [==============================] - 2s 4ms/step - loss: 0.0691\n",
            "Epoch 20/50\n",
            "479/479 [==============================] - 2s 4ms/step - loss: 0.0878\n",
            "Epoch 21/50\n",
            "479/479 [==============================] - 2s 4ms/step - loss: 0.0763\n",
            "Epoch 22/50\n",
            "479/479 [==============================] - 2s 4ms/step - loss: 0.1071\n",
            "Epoch 23/50\n",
            "479/479 [==============================] - 2s 4ms/step - loss: 0.0852\n",
            "Epoch 24/50\n",
            "479/479 [==============================] - 2s 5ms/step - loss: 0.0650\n",
            "Epoch 25/50\n",
            "479/479 [==============================] - 2s 4ms/step - loss: 0.0522\n",
            "Epoch 26/50\n",
            "479/479 [==============================] - 2s 4ms/step - loss: 0.0393\n",
            "Epoch 27/50\n",
            "479/479 [==============================] - 2s 4ms/step - loss: 0.0353\n",
            "Epoch 28/50\n",
            "479/479 [==============================] - 2s 4ms/step - loss: 0.0329\n",
            "Epoch 29/50\n",
            "479/479 [==============================] - 2s 4ms/step - loss: 0.0346\n",
            "Epoch 30/50\n",
            "479/479 [==============================] - 2s 4ms/step - loss: 0.0336\n",
            "Epoch 31/50\n",
            "479/479 [==============================] - 2s 4ms/step - loss: 0.0285\n",
            "Epoch 32/50\n",
            "479/479 [==============================] - 2s 4ms/step - loss: 0.0253\n",
            "Epoch 33/50\n",
            "479/479 [==============================] - 2s 4ms/step - loss: 0.0257\n",
            "Epoch 34/50\n",
            "479/479 [==============================] - 2s 4ms/step - loss: 0.0232\n",
            "Epoch 35/50\n",
            "479/479 [==============================] - 2s 4ms/step - loss: 0.0277\n",
            "Epoch 36/50\n",
            "479/479 [==============================] - 2s 4ms/step - loss: 0.0223\n",
            "Epoch 37/50\n",
            "479/479 [==============================] - 2s 4ms/step - loss: 0.0192\n",
            "Epoch 38/50\n",
            "479/479 [==============================] - 2s 4ms/step - loss: 0.0181\n",
            "Epoch 39/50\n",
            "479/479 [==============================] - 2s 4ms/step - loss: 0.0174\n",
            "Epoch 40/50\n",
            "479/479 [==============================] - 2s 4ms/step - loss: 0.0180\n",
            "Epoch 41/50\n",
            "479/479 [==============================] - 2s 4ms/step - loss: 0.0178\n",
            "Epoch 42/50\n",
            "479/479 [==============================] - 2s 4ms/step - loss: 0.0164\n",
            "Epoch 43/50\n",
            "479/479 [==============================] - 2s 4ms/step - loss: 0.0157\n",
            "Epoch 44/50\n",
            "479/479 [==============================] - 2s 5ms/step - loss: 0.0239\n",
            "Epoch 45/50\n",
            "479/479 [==============================] - 2s 4ms/step - loss: 0.0187\n",
            "Epoch 46/50\n",
            "479/479 [==============================] - 2s 4ms/step - loss: 0.0171\n",
            "Epoch 47/50\n",
            "479/479 [==============================] - 2s 4ms/step - loss: 0.0191\n",
            "Epoch 48/50\n",
            "479/479 [==============================] - 2s 4ms/step - loss: 0.0351\n",
            "Epoch 49/50\n",
            "479/479 [==============================] - 2s 4ms/step - loss: 0.0145\n",
            "Epoch 50/50\n",
            "479/479 [==============================] - 2s 4ms/step - loss: 0.0136\n",
            "821/821 [==============================] - 1s 2ms/step\n",
            "Elapsed Time: 00:02:25\n",
            "==============================\n",
            "Before GridSearchCV\n",
            "==============================\n",
            "        MSE      RMSE  R2_Score  Adjusted_R2_score\n",
            "0  0.087273  0.295419  0.905982           0.902188\n"
          ]
        }
      ],
      "source": [
        "from datetime import timedelta\n",
        "import time\n",
        "\n",
        "#Time returns the elapsed time in seconds. This function converts that into hours, minutes and seconds\n",
        "def convert_to_preferred_format(sec):\n",
        "   sec = sec % (24 * 3600)\n",
        "   hour = sec // 3600\n",
        "   sec %= 3600\n",
        "   min = sec // 60\n",
        "   sec %= 60\n",
        "   return \"%02d:%02d:%02d\" % (hour, min, sec) \n",
        "start = time.time()\n",
        "normal_model.fit(x_train, y_train.values.ravel(),epochs=20,batch_size=128)\n",
        "\n",
        "normal_predictions = normal_model.predict(x_test)\n",
        "k=len(list(x_train.columns))\n",
        "n = len(normal_predictions)\n",
        "stop = (time.time() - start)\n",
        "\n",
        "#Calculates and prints the time taken for training the Artificial neural network\n",
        "print('Elapsed Time:', convert_to_preferred_format(stop))\n",
        "print('======'*5)\n",
        "print(\"Before GridSearchCV\")\n",
        "print('======'*5)\n",
        "\n",
        "#Evaluation metrics for the unoptimized Artificial neural network on test set\n",
        "Metrics={}\n",
        "Metrics['MSE']=[mean_squared_error(y_test,normal_predictions)]\n",
        "Metrics['RMSE']=[np.sqrt(mean_squared_error(y_test,normal_predictions))]\n",
        "Metrics['R2_Score']=[r2_score(y_test,normal_predictions)]\n",
        "Metrics['Adjusted_R2_score']=[1 - ((1-r2_score(y_test,normal_predictions))*(n-1)/(n-k-1))]\n",
        "metrics_df = pd.DataFrame(Metrics)\n",
        "print(metrics_df)\n",
        "normal_model.save('DL_model')"
      ]
    },
    {
      "cell_type": "code",
      "execution_count": 17,
      "metadata": {
        "colab": {
          "base_uri": "https://localhost:8080/",
          "height": 611
        },
        "id": "9mAOOWPd_eoc",
        "outputId": "3717993a-4c7e-41d3-a9d2-32bcb994be4d"
      },
      "outputs": [
        {
          "data": {
            "image/png": "[encoded data removed]",
            "text/plain": [
              "<Figure size 720x720 with 1 Axes>"
            ]
          },
          "metadata": {
            "needs_background": "light"
          },
          "output_type": "display_data"
        }
      ],
      "source": [
        "#Plot of actual values versus the predicted values from Artificial neural network\n",
        "import matplotlib.pyplot as plt\n",
        "plt.figure(figsize=(10,10))\n",
        "plt.scatter(y_test, normal_predictions, c='crimson')\n",
        "plt.xlabel('Actual', fontsize=15)\n",
        "plt.ylabel('Predictions', fontsize=15)\n",
        "plt.axis('equal')\n",
        "plt.show()"
      ]
    },
    {
      "cell_type": "code",
      "execution_count": 16,
      "metadata": {
        "id": "DvnyOJji9dFO"
      },
      "outputs": [],
      "source": [
        "# creates a tuner model that can test different hyperparameters on Artificial neural network\n",
        "import keras_tuner\n",
        "from tensorflow import keras\n",
        "def build_model(hp):\n",
        "  model = keras.Sequential()\n",
        "  model.add(keras.layers.Dense(\n",
        "      hp.Choice('units', [4096, 2048, 1024]),\n",
        "      activation='relu'))\n",
        "  model.add(keras.layers.Dense(\n",
        "      hp.Choice('units', [512,256,128]),\n",
        "      activation='relu'))\n",
        "  model.add(keras.layers.Dense(\n",
        "      hp.Choice('units', [256,128,64]),\n",
        "      activation='relu'))\n",
        "  model.add(keras.layers.Dense(\n",
        "      hp.Choice('units', [128,64,32]),\n",
        "      activation='relu'))\n",
        "  model.add(keras.layers.Dense(1, activation='linear'))\n",
        "  model.compile(loss='mse')\n",
        "  return model"
      ]
    },
    {
      "cell_type": "code",
      "execution_count": 18,
      "metadata": {
        "colab": {
          "base_uri": "https://localhost:8080/"
        },
        "id": "YnbcgE7m_bG9",
        "outputId": "55e21d8c-a1a2-4284-94ba-487c03a4caa1"
      },
      "outputs": [
        {
          "name": "stdout",
          "output_type": "stream",
          "text": [
            "Trial 3 Complete [00h 03m 23s]\n",
            "loss: 0.08150962740182877\n",
            "\n",
            "Best loss So Far: 0.06541959196329117\n",
            "Total elapsed time: 00h 13m 13s\n"
          ]
        },
        {
          "name": "stderr",
          "output_type": "stream",
          "text": [
            "WARNING:tensorflow:Detecting that an object or model or tf.train.Checkpoint is being deleted with unrestored values. See the following logs for the specific values in question. To silence these warnings, use `status.expect_partial()`. See https://www.tensorflow.org/api_docs/python/tf/train/Checkpoint#restorefor details about the status object returned by the restore function.\n",
            "WARNING:tensorflow:Value in checkpoint could not be found in the restored object: (root).layer_with_weights-0.kernel\n",
            "WARNING:tensorflow:Value in checkpoint could not be found in the restored object: (root).layer_with_weights-0.bias\n",
            "WARNING:tensorflow:Value in checkpoint could not be found in the restored object: (root).layer_with_weights-1.kernel\n",
            "WARNING:tensorflow:Value in checkpoint could not be found in the restored object: (root).layer_with_weights-1.bias\n",
            "WARNING:tensorflow:Value in checkpoint could not be found in the restored object: (root).layer_with_weights-2.kernel\n",
            "WARNING:tensorflow:Value in checkpoint could not be found in the restored object: (root).layer_with_weights-2.bias\n",
            "WARNING:tensorflow:Value in checkpoint could not be found in the restored object: (root).layer_with_weights-3.kernel\n",
            "WARNING:tensorflow:Value in checkpoint could not be found in the restored object: (root).layer_with_weights-3.bias\n",
            "WARNING:tensorflow:Value in checkpoint could not be found in the restored object: (root).layer_with_weights-4.kernel\n",
            "WARNING:tensorflow:Value in checkpoint could not be found in the restored object: (root).layer_with_weights-4.bias\n",
            "WARNING:tensorflow:Value in checkpoint could not be found in the restored object: (root).optimizer.iter\n",
            "WARNING:tensorflow:Value in checkpoint could not be found in the restored object: (root).optimizer.decay\n",
            "WARNING:tensorflow:Value in checkpoint could not be found in the restored object: (root).optimizer.learning_rate\n",
            "WARNING:tensorflow:Value in checkpoint could not be found in the restored object: (root).optimizer.momentum\n",
            "WARNING:tensorflow:Value in checkpoint could not be found in the restored object: (root).optimizer.rho\n",
            "WARNING:tensorflow:Value in checkpoint could not be found in the restored object: (root).optimizer's state 'rms' for (root).layer_with_weights-0.kernel\n",
            "WARNING:tensorflow:Value in checkpoint could not be found in the restored object: (root).optimizer's state 'rms' for (root).layer_with_weights-0.bias\n",
            "WARNING:tensorflow:Value in checkpoint could not be found in the restored object: (root).optimizer's state 'rms' for (root).layer_with_weights-1.kernel\n",
            "WARNING:tensorflow:Value in checkpoint could not be found in the restored object: (root).optimizer's state 'rms' for (root).layer_with_weights-1.bias\n",
            "WARNING:tensorflow:Value in checkpoint could not be found in the restored object: (root).optimizer's state 'rms' for (root).layer_with_weights-2.kernel\n",
            "WARNING:tensorflow:Value in checkpoint could not be found in the restored object: (root).optimizer's state 'rms' for (root).layer_with_weights-2.bias\n",
            "WARNING:tensorflow:Value in checkpoint could not be found in the restored object: (root).optimizer's state 'rms' for (root).layer_with_weights-3.kernel\n",
            "WARNING:tensorflow:Value in checkpoint could not be found in the restored object: (root).optimizer's state 'rms' for (root).layer_with_weights-3.bias\n",
            "WARNING:tensorflow:Value in checkpoint could not be found in the restored object: (root).optimizer's state 'rms' for (root).layer_with_weights-4.kernel\n",
            "WARNING:tensorflow:Value in checkpoint could not be found in the restored object: (root).optimizer's state 'rms' for (root).layer_with_weights-4.bias\n"
          ]
        },
        {
          "name": "stdout",
          "output_type": "stream",
          "text": [
            "Best Parameters Found <keras.engine.sequential.Sequential object at 0x7fb6f9724df0>\n",
            "821/821 [==============================] - 2s 2ms/step\n",
            "Elapsed Time: 00:13:16\n",
            "==============================\n",
            "After GridSearchCV\n",
            "==============================\n",
            "        MSE      RMSE  R2_Score  Adjusted_R2_score\n",
            "0  0.079991  0.282826  0.913827           0.910349\n"
          ]
        }
      ],
      "source": [
        "#Time returns the elapsed time in seconds. This function converts that into hours, minutes and seconds\n",
        "def convert_to_preferred_format(sec):\n",
        "   sec = sec % (24 * 3600)\n",
        "   hour = sec // 3600\n",
        "   sec %= 3600\n",
        "   min = sec // 60\n",
        "   sec %= 60\n",
        "   return \"%02d:%02d:%02d\" % (hour, min, sec) \n",
        "start = time.time()\n",
        "\n",
        "\n",
        "#Initialize keras tuner model by specifying that it should evaluate different parameters\n",
        "tuner = keras_tuner.RandomSearch(\n",
        "    build_model,\n",
        "    objective='loss',\n",
        "    max_trials=5)\n",
        "tuner.search(x_train, y_train.values.ravel(), epochs=10)\n",
        "\n",
        "best_model = tuner.get_best_models()[0]\n",
        "#Print the best parameters of the model found by keras tuner\n",
        "print(\"Best Parameters Found\",tuner.get_best_models()[0])\n",
        "\n",
        "\n",
        "#Performes predictions on the test set using best found Artificial neural network\n",
        "tuned_pred = best_model.predict(x_test)\n",
        "k=len(list(x_train.columns))\n",
        "n = len(tuned_pred)\n",
        "stop = (time.time() - start)\n",
        "\n",
        "#Calculates and prints the time taken for training best found Artificial neural network\n",
        "print('Elapsed Time:', convert_to_preferred_format(stop))\n",
        "print('======'*5)\n",
        "print(\"After GridSearchCV\")\n",
        "print('======'*5)\n",
        "\n",
        "#Evaluation metrics for the best Artificial neural network on test set\n",
        "Metrics={}\n",
        "Metrics['MSE']=[mean_squared_error(y_test,tuned_pred)]\n",
        "Metrics['RMSE']=[np.sqrt(mean_squared_error(y_test,tuned_pred))]\n",
        "Metrics['R2_Score']=[r2_score(y_test,tuned_pred)]\n",
        "Metrics['Adjusted_R2_score']=[1 - ((1-r2_score(y_test,tuned_pred))*(n-1)/(n-k-1))]\n",
        "metrics_df = pd.DataFrame(Metrics)\n",
        "print(metrics_df)\n",
        "\n",
        "#Saves the model so that it can be used for test results comparison\n",
        "best_model .save('BEST_DL_model')"
      ]
    }
  ],
  "metadata": {
    "accelerator": "GPU",
    "colab": {
      "provenance": []
    },
    "gpuClass": "standard",
    "kernelspec": {
      "display_name": "Python 3.9.8 64-bit",
      "language": "python",
      "name": "python3"
    },
    "language_info": {
      "name": "python",
      "version": "3.9.8"
    },
    "vscode": {
      "interpreter": {
        "hash": "33bdbe38f05906664ce37e1bfad729095acf9d140669353919cc55cda7a7bbb8"
      }
    }
  },
  "nbformat": 4,
  "nbformat_minor": 0
}
