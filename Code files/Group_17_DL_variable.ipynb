{
  "cells": [
    {
      "cell_type": "code",
      "execution_count": 2,
      "metadata": {
        "id": "F8G5wokf5TJy"
      },
      "outputs": [],
      "source": [
        "from sklearn.model_selection import train_test_split\n",
        "import pandas as pd\n",
        "import numpy as np\n",
        "from sklearn.metrics import mean_squared_error\n",
        "from sklearn.metrics import r2_score\n",
        "from tensorflow.keras.layers import Input,Dense,Dropout\n",
        "from tensorflow.keras.models import Model\n",
        "import pickle"
      ]
    },
    {
      "cell_type": "code",
      "execution_count": 4,
      "metadata": {
        "id": "yfckrg6F58GN"
      },
      "outputs": [],
      "source": [
        "#Load the dataset after LASSO variable selection\n",
        "\n",
        "x = pd.read_csv(\"variable_selection.csv\")\n",
        "y = pd.read_csv(\"variable_labels.csv\")\n",
        "\n",
        "#Splits the dataset into 70 percent training set and 30 percent testing set\n",
        "# keeping the random_state value same makes the function to split same rows into training and testing every time\n",
        "x_train, x_test, y_train, y_test = train_test_split(x, y, test_size = 0.3, random_state=30)"
      ]
    },
    {
      "cell_type": "code",
      "execution_count": 6,
      "metadata": {
        "id": "jeB6751s5r0E"
      },
      "outputs": [],
      "source": [
        "#creates 4layer Artificial neural network model as the attributes are very less\n",
        "inp= Input(shape=(13, ))\n",
        "x = Dense(64,activation='relu')(inp)\n",
        "x = Dense(8,activation='relu')(x)\n",
        "out = Dense(1,activation='linear')(x)\n",
        "normal_model=Model(inputs=inp,outputs=out)\n",
        "normal_model.compile('adam','mean_squared_error')"
      ]
    },
    {
      "cell_type": "code",
      "execution_count": 13,
      "metadata": {
        "colab": {
          "base_uri": "https://localhost:8080/"
        },
        "id": "MVywJwOB51o9",
        "outputId": "2da6cb4b-3f0a-4b1e-863a-8b5174691b35"
      },
      "outputs": [
        {
          "name": "stdout",
          "output_type": "stream",
          "text": [
            "Epoch 1/30\n",
            "479/479 [==============================] - 2s 3ms/step - loss: 0.1415\n",
            "Epoch 2/30\n",
            "479/479 [==============================] - 1s 3ms/step - loss: 0.1252\n",
            "Epoch 3/30\n",
            "479/479 [==============================] - 1s 2ms/step - loss: 0.1128\n",
            "Epoch 4/30\n",
            "479/479 [==============================] - 1s 2ms/step - loss: 0.1600\n",
            "Epoch 5/30\n",
            "479/479 [==============================] - 1s 2ms/step - loss: 0.1225\n",
            "Epoch 6/30\n",
            "479/479 [==============================] - 1s 2ms/step - loss: 0.1108\n",
            "Epoch 7/30\n",
            "479/479 [==============================] - 1s 2ms/step - loss: 0.1488\n",
            "Epoch 8/30\n",
            "479/479 [==============================] - 1s 2ms/step - loss: 0.1076\n",
            "Epoch 9/30\n",
            "479/479 [==============================] - 1s 2ms/step - loss: 0.1066\n",
            "Epoch 10/30\n",
            "479/479 [==============================] - 1s 2ms/step - loss: 0.1677\n",
            "Epoch 11/30\n",
            "479/479 [==============================] - 1s 2ms/step - loss: 0.1187\n",
            "Epoch 12/30\n",
            "479/479 [==============================] - 1s 2ms/step - loss: 0.1866\n",
            "Epoch 13/30\n",
            "479/479 [==============================] - 1s 2ms/step - loss: 0.1215\n",
            "Epoch 14/30\n",
            "479/479 [==============================] - 1s 2ms/step - loss: 0.1118\n",
            "Epoch 15/30\n",
            "479/479 [==============================] - 1s 2ms/step - loss: 0.1047\n",
            "Epoch 16/30\n",
            "479/479 [==============================] - 1s 2ms/step - loss: 0.1120\n",
            "Epoch 17/30\n",
            "479/479 [==============================] - 1s 2ms/step - loss: 0.1081\n",
            "Epoch 18/30\n",
            "479/479 [==============================] - 1s 2ms/step - loss: 0.1109\n",
            "Epoch 19/30\n",
            "479/479 [==============================] - 1s 2ms/step - loss: 0.0990\n",
            "Epoch 20/30\n",
            "479/479 [==============================] - 1s 2ms/step - loss: 0.1566\n",
            "Epoch 21/30\n",
            "479/479 [==============================] - 1s 2ms/step - loss: 0.1594\n",
            "Epoch 22/30\n",
            "479/479 [==============================] - 1s 2ms/step - loss: 0.1090\n",
            "Epoch 23/30\n",
            "479/479 [==============================] - 1s 2ms/step - loss: 0.1003\n",
            "Epoch 24/30\n",
            "479/479 [==============================] - 1s 2ms/step - loss: 0.1256\n",
            "Epoch 25/30\n",
            "479/479 [==============================] - 1s 2ms/step - loss: 0.1033\n",
            "Epoch 26/30\n",
            "479/479 [==============================] - 1s 2ms/step - loss: 0.0955\n",
            "Epoch 27/30\n",
            "479/479 [==============================] - 1s 2ms/step - loss: 0.1016\n",
            "Epoch 28/30\n",
            "479/479 [==============================] - 1s 2ms/step - loss: 0.1335\n",
            "Epoch 29/30\n",
            "479/479 [==============================] - 1s 2ms/step - loss: 0.1131\n",
            "Epoch 30/30\n",
            "479/479 [==============================] - 1s 2ms/step - loss: 0.0951\n",
            "821/821 [==============================] - 1s 1ms/step\n",
            "Elapsed Time: 00:00:36\n",
            "==============================\n",
            "Before GridSearchCV\n",
            "==============================\n",
            "        MSE     RMSE  R2_Score  Adjusted_R2_score\n",
            "0  0.099572  0.31555  0.892732           0.892679\n"
          ]
        }
      ],
      "source": [
        "from datetime import timedelta\n",
        "import time\n",
        "\n",
        "#Time returns the elapsed time in seconds. This function converts that into hours, minutes and seconds\n",
        "def convert_to_preferred_format(sec):\n",
        "   sec = sec % (24 * 3600)\n",
        "   hour = sec // 3600\n",
        "   sec %= 3600\n",
        "   min = sec // 60\n",
        "   sec %= 60\n",
        "   return \"%02d:%02d:%02d\" % (hour, min, sec) \n",
        "start = time.time()\n",
        "normal_model.fit(x_train, y_train,epochs=30,batch_size=128)\n",
        "\n",
        "normal_predictions = normal_model.predict(x_test)\n",
        "k=len(list(x_train.columns))\n",
        "n = len(normal_predictions)\n",
        "stop = (time.time() - start)\n",
        "\n",
        "#Calculates and prints the time taken for training the Artificial neural network\n",
        "print('Elapsed Time:', convert_to_preferred_format(stop))\n",
        "print('======'*5)\n",
        "print(\"Before GridSearchCV\")\n",
        "print('======'*5)\n",
        "\n",
        "#Evaluation metrics for the unoptimized Artificial neural network on test set\n",
        "Metrics={}\n",
        "Metrics['MSE']=[mean_squared_error(y_test,normal_predictions)]\n",
        "Metrics['RMSE']=[np.sqrt(mean_squared_error(y_test,normal_predictions))]\n",
        "Metrics['R2_Score']=[r2_score(y_test,normal_predictions)]\n",
        "Metrics['Adjusted_R2_score']=[1 - ((1-r2_score(y_test,normal_predictions))*(n-1)/(n-k-1))]\n",
        "metrics_df = pd.DataFrame(Metrics)\n",
        "print(metrics_df)\n",
        "normal_model.save('DL_variable_model')"
      ]
    },
    {
      "cell_type": "code",
      "execution_count": 14,
      "metadata": {
        "colab": {
          "base_uri": "https://localhost:8080/",
          "height": 611
        },
        "id": "9mAOOWPd_eoc",
        "outputId": "c6978b6a-9679-44b2-c1cf-a21691d0de17"
      },
      "outputs": [
        {
          "data": {
            "image/png": "[encoded data removed]",
            "text/plain": [
              "<Figure size 720x720 with 1 Axes>"
            ]
          },
          "metadata": {
            "needs_background": "light"
          },
          "output_type": "display_data"
        }
      ],
      "source": [
        "#Plot of actual values versus the predicted values from Artificial neural network\n",
        "import matplotlib.pyplot as plt\n",
        "plt.figure(figsize=(10,10))\n",
        "plt.scatter(y_test, normal_predictions, c='crimson')\n",
        "plt.xlabel('Actual', fontsize=15)\n",
        "plt.ylabel('Predictions', fontsize=15)\n",
        "plt.axis('equal')\n",
        "plt.show()"
      ]
    },
    {
      "cell_type": "code",
      "execution_count": 15,
      "metadata": {
        "id": "DvnyOJji9dFO"
      },
      "outputs": [],
      "source": [
        "# creates a tuner model that can test different hyperparameters on Artificial neural network\n",
        "\n",
        "import keras_tuner\n",
        "from tensorflow import keras\n",
        "def build_model(hp):\n",
        "  model = keras.Sequential()\n",
        "  model.add(keras.layers.Dense(\n",
        "      hp.Choice('units', [256,128,64]),\n",
        "      activation='relu'))\n",
        "  model.add(keras.layers.Dense(\n",
        "      hp.Choice('units', [128,64,32]),\n",
        "      activation='relu'))\n",
        "  model.add(keras.layers.Dense(1, activation='linear'))\n",
        "  model.compile(loss='mse')\n",
        "  return model"
      ]
    },
    {
      "cell_type": "code",
      "execution_count": 16,
      "metadata": {
        "colab": {
          "base_uri": "https://localhost:8080/"
        },
        "id": "YnbcgE7m_bG9",
        "outputId": "bf18bf62-6372-490e-822d-78b3d898755b"
      },
      "outputs": [
        {
          "name": "stderr",
          "output_type": "stream",
          "text": [
            "WARNING:tensorflow:Detecting that an object or model or tf.train.Checkpoint is being deleted with unrestored values. See the following logs for the specific values in question. To silence these warnings, use `status.expect_partial()`. See https://www.tensorflow.org/api_docs/python/tf/train/Checkpoint#restorefor details about the status object returned by the restore function.\n",
            "WARNING:tensorflow:Value in checkpoint could not be found in the restored object: (root).layer_with_weights-0.kernel\n",
            "WARNING:tensorflow:Value in checkpoint could not be found in the restored object: (root).layer_with_weights-0.bias\n",
            "WARNING:tensorflow:Value in checkpoint could not be found in the restored object: (root).layer_with_weights-1.kernel\n",
            "WARNING:tensorflow:Value in checkpoint could not be found in the restored object: (root).layer_with_weights-1.bias\n",
            "WARNING:tensorflow:Value in checkpoint could not be found in the restored object: (root).layer_with_weights-2.kernel\n",
            "WARNING:tensorflow:Value in checkpoint could not be found in the restored object: (root).layer_with_weights-2.bias\n",
            "WARNING:tensorflow:Value in checkpoint could not be found in the restored object: (root).optimizer.iter\n",
            "WARNING:tensorflow:Value in checkpoint could not be found in the restored object: (root).optimizer.decay\n",
            "WARNING:tensorflow:Value in checkpoint could not be found in the restored object: (root).optimizer.learning_rate\n",
            "WARNING:tensorflow:Value in checkpoint could not be found in the restored object: (root).optimizer.momentum\n",
            "WARNING:tensorflow:Value in checkpoint could not be found in the restored object: (root).optimizer.rho\n",
            "WARNING:tensorflow:Value in checkpoint could not be found in the restored object: (root).optimizer's state 'rms' for (root).layer_with_weights-0.kernel\n",
            "WARNING:tensorflow:Value in checkpoint could not be found in the restored object: (root).optimizer's state 'rms' for (root).layer_with_weights-0.bias\n",
            "WARNING:tensorflow:Value in checkpoint could not be found in the restored object: (root).optimizer's state 'rms' for (root).layer_with_weights-1.kernel\n",
            "WARNING:tensorflow:Value in checkpoint could not be found in the restored object: (root).optimizer's state 'rms' for (root).layer_with_weights-1.bias\n",
            "WARNING:tensorflow:Value in checkpoint could not be found in the restored object: (root).optimizer's state 'rms' for (root).layer_with_weights-2.kernel\n",
            "WARNING:tensorflow:Value in checkpoint could not be found in the restored object: (root).optimizer's state 'rms' for (root).layer_with_weights-2.bias\n"
          ]
        },
        {
          "name": "stdout",
          "output_type": "stream",
          "text": [
            "Best Parameters Found <keras.engine.sequential.Sequential object at 0x7f99f017e520>\n",
            "821/821 [==============================] - 1s 2ms/step\n",
            "Elapsed Time: 00:00:03\n",
            "==============================\n",
            "After GridSearchCV\n",
            "==============================\n",
            "        MSE      RMSE  R2_Score  Adjusted_R2_score\n",
            "0  0.127626  0.357249  0.862509           0.862441\n"
          ]
        }
      ],
      "source": [
        "#Time returns the elapsed time in seconds. This function converts that into hours, minutes and seconds\n",
        "def convert_to_preferred_format(sec):\n",
        "   sec = sec % (24 * 3600)\n",
        "   hour = sec // 3600\n",
        "   sec %= 3600\n",
        "   min = sec // 60\n",
        "   sec %= 60\n",
        "   return \"%02d:%02d:%02d\" % (hour, min, sec) \n",
        "start = time.time()\n",
        "\n",
        "#Initialize keras tuner model by specifying that it should evaluate different parameters\n",
        "tuner = keras_tuner.RandomSearch(\n",
        "    build_model,\n",
        "    objective='loss',\n",
        "    max_trials=5)\n",
        "tuner.search(x_train, y_train.values.ravel(), epochs=20)\n",
        "\n",
        "best_model = tuner.get_best_models()[0]\n",
        "#Print the best parameters of the model found by keras tuner\n",
        "print(\"Best Parameters Found\",tuner.get_best_models()[0])\n",
        "\n",
        "\n",
        "#Performes predictions on the test set using best found Artificial neural network\n",
        "tuned_pred = best_model.predict(x_test)\n",
        "k=len(list(x_train.columns))\n",
        "n = len(tuned_pred)\n",
        "stop = (time.time() - start)\n",
        "\n",
        "#Calculates and prints the time taken for training best found Artificial neural network\n",
        "print('Elapsed Time:', convert_to_preferred_format(stop))\n",
        "print('======'*5)\n",
        "print(\"After GridSearchCV\")\n",
        "print('======'*5)\n",
        "\n",
        "#Evaluation metrics for the Artificial neural networkon test set\n",
        "Metrics={}\n",
        "Metrics['MSE']=[mean_squared_error(y_test,tuned_pred)]\n",
        "Metrics['RMSE']=[np.sqrt(mean_squared_error(y_test,tuned_pred))]\n",
        "Metrics['R2_Score']=[r2_score(y_test,tuned_pred)]\n",
        "Metrics['Adjusted_R2_score']=[1 - ((1-r2_score(y_test,tuned_pred))*(n-1)/(n-k-1))]\n",
        "metrics_df = pd.DataFrame(Metrics)\n",
        "print(metrics_df)\n",
        "\n",
        "#Saves the model so that it can be used for test results comparison\n",
        "best_model .save('BEST_DL_variations_model')"
      ]
    },
    {
      "cell_type": "code",
      "execution_count": null,
      "metadata": {
        "id": "nXc7TAMLVFf1"
      },
      "outputs": [],
      "source": []
    }
  ],
  "metadata": {
    "accelerator": "GPU",
    "colab": {
      "provenance": []
    },
    "gpuClass": "standard",
    "kernelspec": {
      "display_name": "Python 3.9.8 64-bit",
      "language": "python",
      "name": "python3"
    },
    "language_info": {
      "name": "python",
      "version": "3.9.8"
    },
    "vscode": {
      "interpreter": {
        "hash": "33bdbe38f05906664ce37e1bfad729095acf9d140669353919cc55cda7a7bbb8"
      }
    }
  },
  "nbformat": 4,
  "nbformat_minor": 0
}
